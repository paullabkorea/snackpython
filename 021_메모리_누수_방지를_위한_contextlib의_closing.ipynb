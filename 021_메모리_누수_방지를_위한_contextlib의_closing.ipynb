{
  "nbformat": 4,
  "nbformat_minor": 0,
  "metadata": {
    "colab": {
      "name": "메모리 누수 방지를 위한 contextlib의 closing.ipynb",
      "provenance": []
    },
    "kernelspec": {
      "name": "python3",
      "display_name": "Python 3"
    },
    "language_info": {
      "name": "python"
    }
  },
  "cells": [
    {
      "cell_type": "markdown",
      "metadata": {
        "id": "5fJ5ztoWVYGW"
      },
      "source": [
        "## 메모리 누수 방지를 위한 contextlib의 closing\n",
        "\n",
        "* 참고문헌 :\n",
        "    * https://docs.python.org/ko/3/library/contextlib.html\n",
        "    * https://wikidocs.net/16079\n",
        "    * https://sjquant.tistory.com/12"
      ]
    },
    {
      "cell_type": "code",
      "metadata": {
        "id": "LP60GL74VCgn"
      },
      "source": [
        "from contextlib import closing\n",
        "from urllib.request import urlopen\n",
        "\n",
        "with closing(urlopen('http://www.python.org')) as page:\n",
        "    for line in page:\n",
        "        print(line)"
      ],
      "execution_count": null,
      "outputs": []
    },
    {
      "cell_type": "code",
      "metadata": {
        "id": "UG8HnNvPV7Ck"
      },
      "source": [
        "from contextlib import contextmanager\n",
        "\n",
        "@contextmanager\n",
        "def closing(thing):\n",
        "    try:\n",
        "        yield thing\n",
        "    finally:\n",
        "        thing.close()"
      ],
      "execution_count": null,
      "outputs": []
    },
    {
      "cell_type": "code",
      "metadata": {
        "colab": {
          "base_uri": "https://localhost:8080/"
        },
        "id": "NutV5L8NV6MT",
        "outputId": "e56ee5ac-a559-4b74-acee-61e3dd827b8f"
      },
      "source": [
        "class 실행종료클래스:\n",
        "\n",
        "    def 실행(self):\n",
        "        print(\"인스턴스 실행\")\n",
        "\n",
        "    def close(self):\n",
        "        print(\"인스턴스 종료\")\n",
        "\n",
        "\n",
        "실행종료인스턴스 = 실행종료클래스()\n",
        "실행종료인스턴스.실행()\n",
        "실행종료인스턴스.close()"
      ],
      "execution_count": 6,
      "outputs": [
        {
          "output_type": "stream",
          "text": [
            "인스턴스 실행\n",
            "인스턴스 종료\n"
          ],
          "name": "stdout"
        }
      ]
    },
    {
      "cell_type": "code",
      "metadata": {
        "colab": {
          "base_uri": "https://localhost:8080/"
        },
        "id": "iSzDPYKZW5Y3",
        "outputId": "3425f5a9-f27e-4f89-e2b6-5281bb4bd0c1"
      },
      "source": [
        "from contextlib import closing\n",
        "\n",
        "with closing(실행종료클래스()) as 자동종료인스턴스:\n",
        "    자동종료인스턴스.실행()"
      ],
      "execution_count": 7,
      "outputs": [
        {
          "output_type": "stream",
          "text": [
            "인스턴스 실행\n",
            "인스턴스 종료\n"
          ],
          "name": "stdout"
        }
      ]
    }
  ]
}