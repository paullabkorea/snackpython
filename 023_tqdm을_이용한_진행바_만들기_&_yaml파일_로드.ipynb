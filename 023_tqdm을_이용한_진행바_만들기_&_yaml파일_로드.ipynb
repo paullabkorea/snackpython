{
  "nbformat": 4,
  "nbformat_minor": 0,
  "metadata": {
    "colab": {
      "name": "023_tqdm을_이용한_진행바_만들기 & yaml파일 로드.ipynb",
      "provenance": []
    },
    "kernelspec": {
      "name": "python3",
      "display_name": "Python 3"
    },
    "language_info": {
      "name": "python"
    }
  },
  "cells": [
    {
      "cell_type": "code",
      "metadata": {
        "colab": {
          "base_uri": "https://localhost:8080/"
        },
        "id": "3psfysppcEqy",
        "outputId": "1b91b57a-5b0a-4fa7-dd26-ff8f8ca25e26"
      },
      "source": [
        "from tqdm import tqdm\n",
        "import time\n",
        "\n",
        "s = \"\"\n",
        "for c in tqdm(['h', 'e', 'l', 'l', 'o']):\n",
        "    s += c\n",
        "    time.sleep(1)\n",
        "\n",
        "print(s)"
      ],
      "execution_count": 1,
      "outputs": [
        {
          "output_type": "stream",
          "name": "stderr",
          "text": [
            "100%|██████████| 5/5 [00:05<00:00,  1.00s/it]"
          ]
        },
        {
          "output_type": "stream",
          "name": "stdout",
          "text": [
            "hello\n"
          ]
        },
        {
          "output_type": "stream",
          "name": "stderr",
          "text": [
            "\n"
          ]
        }
      ]
    },
    {
      "cell_type": "code",
      "metadata": {
        "colab": {
          "base_uri": "https://localhost:8080/"
        },
        "id": "9SICAfrteQ-z",
        "outputId": "6ea3b5b9-ae3c-4920-c018-87e2305c8954"
      },
      "source": [
        "s  = 0\n",
        "for i in tqdm(range(1, 11), desc=\"진행율\", mininterval=3):\n",
        "    s += i\n",
        "    time.sleep(1)\n",
        "\n",
        "print(s)"
      ],
      "execution_count": 4,
      "outputs": [
        {
          "output_type": "stream",
          "name": "stderr",
          "text": [
            "진행율: 100%|██████████| 10/10 [00:10<00:00,  1.00s/it]"
          ]
        },
        {
          "output_type": "stream",
          "name": "stdout",
          "text": [
            "55\n"
          ]
        },
        {
          "output_type": "stream",
          "name": "stderr",
          "text": [
            "\n"
          ]
        }
      ]
    },
    {
      "cell_type": "code",
      "metadata": {
        "id": "_62r-EBSgh7d"
      },
      "source": [
        "import yaml\n",
        "\n",
        "with open('test.yaml', 'r') as f:\n",
        "    text = f.read()\n",
        "\n",
        "data = yaml.load(text)"
      ],
      "execution_count": 5,
      "outputs": []
    },
    {
      "cell_type": "code",
      "metadata": {
        "colab": {
          "base_uri": "https://localhost:8080/",
          "height": 35
        },
        "id": "ziCXmuVija6B",
        "outputId": "c609d697-8570-457b-e33c-a4481925bf22"
      },
      "source": [
        "data['company']['직원'][0]"
      ],
      "execution_count": 13,
      "outputs": [
        {
          "output_type": "execute_result",
          "data": {
            "application/vnd.google.colaboratory.intrinsic+json": {
              "type": "string"
            },
            "text/plain": [
              "'하나'"
            ]
          },
          "metadata": {},
          "execution_count": 13
        }
      ]
    },
    {
      "cell_type": "code",
      "metadata": {
        "colab": {
          "base_uri": "https://localhost:8080/"
        },
        "id": "oPqn0kpan2uZ",
        "outputId": "86fcb192-8f7e-449d-af83-74d367f1590f"
      },
      "source": [
        "import hello\n",
        "\n",
        "print(hello.name)"
      ],
      "execution_count": 14,
      "outputs": [
        {
          "output_type": "stream",
          "name": "stdout",
          "text": [
            "hojun\n"
          ]
        }
      ]
    }
  ]
}