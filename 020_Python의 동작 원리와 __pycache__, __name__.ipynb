{
 "cells": [
  {
   "cell_type": "markdown",
   "metadata": {},
   "source": [
    "## Python의 동작 원리와 `__pycache__`, `__name__`\n",
    "\n",
    "* 참고문헌 : \n",
    "    * 러닝 파이썬\n",
    "    * https://indianpythonista.wordpress.com/2018/01/04/how-python-runs/\n",
    "    * https://velog.io/@doondoony/How-Python-works\n",
    "* 소스코드 -> 컴파일 -> 바이트코드(.pyc 파일 생성) -> PVM(Python Virtual Machine, 모듈을 가지고 올 경우 이 단계에서 가지고 옴) -> 소스코드 실행\n",
    "* Python 3.2 version 이후로는 소스 파일들이 위치한 디렉터리에 `__pycache__` 라는 이름의 하위 디렉터리 안에 자신의 `.pyc` 파일 생성\n",
    "* CPython 말고도 Jython, IronPython, Stackless, PyPy 등이 존재. 예를 들어 Jython 같은 경우 파일은 .py로 저장하지만 바이트코드를 JVM으로 실행\n",
    "* pyc파일을 계속 생성하면 간혹 협업에 문제가 생긴다던지(https://codingexplore.tistory.com/11) 성능상에 이슈가 발생할 수 있습니다. -B 플래그를 사용해서 억제하거나 주기적으로 삭제하는 것이 방법이 될 수 있습니다."
   ]
  },
  {
   "cell_type": "code",
   "execution_count": 1,
   "metadata": {},
   "outputs": [
    {
     "name": "stdout",
     "output_type": "stream",
     "text": [
      "test\n"
     ]
    }
   ],
   "source": [
    "import test\n",
    "\n",
    "test.출력()"
   ]
  },
  {
   "cell_type": "code",
   "execution_count": 2,
   "metadata": {},
   "outputs": [],
   "source": [
    "if __name__ == \"__main__\":\n",
    "    pass"
   ]
  },
  {
   "cell_type": "code",
   "execution_count": 3,
   "metadata": {},
   "outputs": [
    {
     "name": "stdout",
     "output_type": "stream",
     "text": [
      "__main__\n"
     ]
    }
   ],
   "source": [
    "print(__name__)"
   ]
  }
 ],
 "metadata": {
  "kernelspec": {
   "display_name": "Python 3",
   "language": "python",
   "name": "python3"
  },
  "language_info": {
   "codemirror_mode": {
    "name": "ipython",
    "version": 3
   },
   "file_extension": ".py",
   "mimetype": "text/x-python",
   "name": "python",
   "nbconvert_exporter": "python",
   "pygments_lexer": "ipython3",
   "version": "3.8.5"
  }
 },
 "nbformat": 4,
 "nbformat_minor": 4
}
