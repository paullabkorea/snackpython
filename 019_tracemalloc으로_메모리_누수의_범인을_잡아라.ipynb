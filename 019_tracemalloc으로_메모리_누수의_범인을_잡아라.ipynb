{
  "nbformat": 4,
  "nbformat_minor": 0,
  "metadata": {
    "colab": {
      "name": "tracemalloc으로 메모리 누수의 범인을 잡아라.ipynb",
      "provenance": []
    },
    "kernelspec": {
      "name": "python3",
      "display_name": "Python 3"
    },
    "language_info": {
      "name": "python"
    }
  },
  "cells": [
    {
      "cell_type": "markdown",
      "metadata": {
        "id": "3AH1o_x6E2vY"
      },
      "source": [
        "## tracemalloc으로 메모리 누수의 범인을 잡아라!\n",
        "\n",
        "* 인공지능 모듈이나 빅데이터 시각화에서 메모리 추적을 할 필요가 있음\n",
        "* 예를 들어 데이터 시각화(matplotlib)에서 메모리를 많이 사용하였다면 plt.close(fig) 필요\n",
        "* garbage collection이 있긴 하지만 수거되지 않는 메모리가 있음!\n",
        "* python 3.4부터 지원\n"
      ]
    },
    {
      "cell_type": "code",
      "metadata": {
        "colab": {
          "base_uri": "https://localhost:8080/"
        },
        "id": "6JLQwTThHwY1",
        "outputId": "e1f92248-8ef5-449e-b6f9-9992a4533fae"
      },
      "source": [
        "import tracemalloc\n",
        "import testfunctions\n",
        "\n",
        "tracemalloc.start()\n",
        "snapshot1 = tracemalloc.take_snapshot()\n",
        "\n",
        "testfunctions.dataList()\n",
        "\n",
        "snapshot2 = tracemalloc.take_snapshot()\n",
        "\n",
        "top_stats = snapshot2.compare_to(snapshot1, 'lineno')\n",
        "\n",
        "print(\"[ Top 10 differences ]\")\n",
        "for stat in top_stats[:10]:\n",
        "    print(stat)"
      ],
      "execution_count": 5,
      "outputs": [
        {
          "output_type": "stream",
          "text": [
            "[ Top 10 differences ]\n",
            "/usr/lib/python3.7/tracemalloc.py:113: size=0 B (-51.4 KiB), count=0 (-548)\n",
            "/usr/lib/python3.7/tracemalloc.py:185: size=57.6 KiB (-45.9 KiB), count=922 (-735), average=64 B\n",
            "/content/testfunctions.py:2: size=17.1 KiB (+17.1 KiB), count=131 (+131), average=134 B\n",
            "<ipython-input-3-8dd27cfee6d8>:7: size=2248 B (-11.1 KiB), count=19 (-91), average=118 B\n",
            "/usr/lib/python3.7/enum.py:315: size=1608 B (-9112 B), count=3 (-17), average=536 B\n",
            "/usr/local/lib/python3.7/dist-packages/zmq/eventloop/zmqstream.py:434: size=5288 B (-7560 B), count=12 (-15), average=441 B\n",
            "/usr/local/lib/python3.7/dist-packages/ipykernel/jsonutil.py:191: size=5576 B (-7392 B), count=11 (-14), average=507 B\n",
            "/usr/lib/python3.7/asyncio/base_events.py:541: size=4088 B (-7008 B), count=7 (-12), average=584 B\n",
            "/usr/lib/python3.7/asyncio/base_events.py:1750: size=3216 B (-6432 B), count=6 (-12), average=536 B\n",
            "/usr/lib/python3.7/signal.py:30: size=1560 B (-6240 B), count=3 (-12), average=520 B\n"
          ],
          "name": "stdout"
        }
      ]
    },
    {
      "cell_type": "code",
      "metadata": {
        "id": "fcjrDlnlDWOU"
      },
      "source": [
        ""
      ],
      "execution_count": null,
      "outputs": []
    }
  ]
}
