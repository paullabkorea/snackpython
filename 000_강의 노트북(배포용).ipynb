{
 "cells": [
  {
   "cell_type": "markdown",
   "metadata": {},
   "source": [
    "## 1 minute, 스낵 파이썬 - 001. f-string의 이중 중괄호"
   ]
  },
  {
   "cell_type": "code",
   "execution_count": null,
   "metadata": {},
   "outputs": [],
   "source": [
    "숫자 = 10\n",
    "자릿수 = 10\n",
    "f'{숫자:>{자릿수}}'"
   ]
  },
  {
   "cell_type": "code",
   "execution_count": null,
   "metadata": {},
   "outputs": [],
   "source": [
    "f'{숫자:0{자릿수}d}'"
   ]
  },
  {
   "cell_type": "code",
   "execution_count": null,
   "metadata": {},
   "outputs": [],
   "source": [
    "원주율 = 3.141592\n",
    "소수점 = 3\n",
    "f'{원주율:.{소수점}f}'"
   ]
  },
  {
   "cell_type": "markdown",
   "metadata": {},
   "source": [
    "## 1 minute, 스낵 파이썬 - 002. 왈러스 연산자\n",
    "\n",
    "* f'string 추가영상 : https://youtu.be/_UdOzBvpu90\n",
    "* walrus 추가영상 : https://youtu.be/dY7mVQXmwk4 (Python 3.8 update)"
   ]
  },
  {
   "cell_type": "code",
   "execution_count": null,
   "metadata": {},
   "outputs": [],
   "source": [
    "value = 10\n",
    "(value := value + 1) #왈러스"
   ]
  },
  {
   "cell_type": "code",
   "execution_count": null,
   "metadata": {},
   "outputs": [],
   "source": [
    "(value := value + 1)"
   ]
  },
  {
   "cell_type": "code",
   "execution_count": null,
   "metadata": {},
   "outputs": [],
   "source": [
    "count = 0\n",
    "while (count := count + 1) < 10:\n",
    "    print(count)"
   ]
  },
  {
   "cell_type": "code",
   "execution_count": null,
   "metadata": {},
   "outputs": [],
   "source": [
    "count = 0\n",
    "result = 0\n",
    "while (count := count + 1) < 101:\n",
    "    result += count\n",
    "    \n",
    "result"
   ]
  },
  {
   "cell_type": "code",
   "execution_count": null,
   "metadata": {},
   "outputs": [],
   "source": [
    "def 시그마(n):\n",
    "    count = 0\n",
    "    result = 0\n",
    "    while (count := count + 1) < n + 1:\n",
    "        result += count\n",
    "    return result\n",
    "\n",
    "\n",
    "if 합 := 시그마(100):\n",
    "    print(합)\n",
    "else:\n",
    "    print('1부터 정수형태로 입력이 가능합니다.')\n",
    "    \n",
    "print(합 + 1000)"
   ]
  },
  {
   "cell_type": "code",
   "execution_count": null,
   "metadata": {
    "scrolled": true
   },
   "outputs": [],
   "source": [
    "def 시그마(n):\n",
    "    count = 0\n",
    "    result = 0\n",
    "    while (count := count + 1) < n + 1:\n",
    "        result += count\n",
    "    return result\n",
    "\n",
    "if (합 := 시그마(100)) == 5050:\n",
    "    print('5050이 출력되었습니다.')\n",
    "else:\n",
    "    print('1부터 정수형태로 입력이 가능합니다.')\n",
    "\n",
    "print(합 + 1000)"
   ]
  },
  {
   "cell_type": "markdown",
   "metadata": {},
   "source": [
    "## 1 minute, 스낵 파이썬 - 003. 딕셔너리 KeyError 처리\n",
    "\n",
    "* collections defaultdict 추가영상 : https://youtu.be/zF01pfp1MOo\n",
    "* Python 3.10 에 switch/case와 비슷한 match/case 구문 : https://youtu.be/9C2h3WIO8J8"
   ]
  },
  {
   "cell_type": "code",
   "execution_count": null,
   "metadata": {},
   "outputs": [],
   "source": [
    "def 요일구하기(요일):\n",
    "    return { \n",
    "        0: '일요일',\n",
    "        1: '월요일',\n",
    "        2: '화요일',\n",
    "        3: '수요일',\n",
    "        4: '목요일',\n",
    "        5: '금요일',\n",
    "        6: '토요일'\n",
    "    }.get(요일, '요일없음')"
   ]
  },
  {
   "cell_type": "code",
   "execution_count": null,
   "metadata": {},
   "outputs": [],
   "source": [
    "요일구하기(10)"
   ]
  },
  {
   "cell_type": "code",
   "execution_count": null,
   "metadata": {},
   "outputs": [],
   "source": [
    "{ \n",
    "    0: '일요일',\n",
    "    1: '월요일',\n",
    "    2: '화요일',\n",
    "    3: '수요일',\n",
    "    4: '목요일',\n",
    "    5: '금요일',\n",
    "    6: '토요일'\n",
    "}[10]"
   ]
  },
  {
   "cell_type": "markdown",
   "metadata": {},
   "source": [
    "## 1 minute, 스낵 파이썬 - 004. 리스트 append와 리스트컴프리헨션 성능 비교"
   ]
  },
  {
   "cell_type": "code",
   "execution_count": null,
   "metadata": {},
   "outputs": [],
   "source": [
    "import dis\n",
    "\n",
    "def 테스트():\n",
    "    x = [i for i in range(10)]\n",
    "    return x\n",
    "\n",
    "dis.dis(테스트)"
   ]
  },
  {
   "cell_type": "code",
   "execution_count": null,
   "metadata": {},
   "outputs": [],
   "source": [
    "import dis\n",
    "\n",
    "def 테스트():\n",
    "    x = []\n",
    "    for i in range(10):\n",
    "        x.append(i)\n",
    "    return x\n",
    "\n",
    "dis.dis(테스트)"
   ]
  },
  {
   "cell_type": "code",
   "execution_count": null,
   "metadata": {
    "scrolled": true
   },
   "outputs": [],
   "source": [
    "# !pip install memory_profiler\n",
    "# !pip install ipython-memory-usage"
   ]
  },
  {
   "cell_type": "code",
   "execution_count": null,
   "metadata": {
    "scrolled": true
   },
   "outputs": [],
   "source": [
    "# 메모리 측정은 하지 않음\n",
    "# import memory_profiler\n",
    "# %load_ext memory_profiler\n",
    "\n",
    "# import ipython_memory_usage \n",
    "# import ipython_memory_usage.ipython_memory_usage"
   ]
  },
  {
   "cell_type": "code",
   "execution_count": null,
   "metadata": {},
   "outputs": [],
   "source": [
    "%%timeit #%memit\n",
    "\n",
    "def 테스트(n):\n",
    "    s = []\n",
    "    for i in range(n+1):\n",
    "        i = i**2\n",
    "        s.append(i)\n",
    "    return sum(s)\n",
    "\n",
    "테스트(1000000)"
   ]
  },
  {
   "cell_type": "code",
   "execution_count": null,
   "metadata": {},
   "outputs": [],
   "source": [
    "%%timeit #%memit\n",
    "\n",
    "def 테스트(n):\n",
    "    s = [i**2 for i in range(n+1)]\n",
    "    return sum(s)\n",
    "\n",
    "테스트(1000000)"
   ]
  },
  {
   "cell_type": "code",
   "execution_count": null,
   "metadata": {},
   "outputs": [],
   "source": [
    "# import psutil\n",
    "\n",
    "# def 현재메모리사용량():\n",
    "#     p = psutil.Process()\n",
    "#     메모리사용 = p.memory_info().rss / 2 ** 20\n",
    "#     print(f'{메모리사용: 10.5f} MB')"
   ]
  },
  {
   "cell_type": "code",
   "execution_count": null,
   "metadata": {},
   "outputs": [],
   "source": [
    "# def 테스트(n):\n",
    "#     s = []\n",
    "#     for i in range(n+1):\n",
    "#         i = i**2\n",
    "#         s.append(i)\n",
    "#     return sum(s)\n",
    "\n",
    "# 현재메모리사용량()\n",
    "# 테스트(100000000)\n",
    "# 현재메모리사용량()"
   ]
  },
  {
   "cell_type": "code",
   "execution_count": null,
   "metadata": {},
   "outputs": [],
   "source": [
    "# def 테스트(n):\n",
    "#     s = [i**2 for i in range(n+1)]\n",
    "#     return sum(s)\n",
    "\n",
    "# 현재메모리사용량()\n",
    "# 테스트(100000000)\n",
    "# 현재메모리사용량()"
   ]
  },
  {
   "cell_type": "markdown",
   "metadata": {},
   "source": [
    "## 1 minute, 스낵 파이썬 - 005. sorted의 key 응용"
   ]
  },
  {
   "cell_type": "code",
   "execution_count": null,
   "metadata": {
    "scrolled": false
   },
   "outputs": [],
   "source": [
    "sorted({1: 'D', 2: 'B', 3: 'B', 4: 'E', 5: 'A'})"
   ]
  },
  {
   "cell_type": "code",
   "execution_count": null,
   "metadata": {},
   "outputs": [],
   "source": [
    "sorted(\"This is a test string from Andrew\".split(), key=str.lower)"
   ]
  },
  {
   "cell_type": "code",
   "execution_count": null,
   "metadata": {},
   "outputs": [],
   "source": [
    "student_tuples = [\n",
    "    ('john', 'A', 15),\n",
    "    ('jane', 'B', 12),\n",
    "    ('dave', 'B', 10),\n",
    "]"
   ]
  },
  {
   "cell_type": "code",
   "execution_count": null,
   "metadata": {},
   "outputs": [],
   "source": [
    "sorted(student_tuples, key=lambda student: student[2])"
   ]
  },
  {
   "cell_type": "code",
   "execution_count": null,
   "metadata": {},
   "outputs": [],
   "source": [
    "class Student:\n",
    "    def __init__(self, name, grade, age):\n",
    "        self.name = name\n",
    "        self.grade = grade\n",
    "        self.age = age\n",
    "    def __repr__(self):\n",
    "        return repr((self.name, self.grade, self.age))"
   ]
  },
  {
   "cell_type": "code",
   "execution_count": null,
   "metadata": {},
   "outputs": [],
   "source": [
    "student_objects = [\n",
    "    Student('john', 'A', 15),\n",
    "    Student('jane', 'B', 12),\n",
    "    Student('dave', 'B', 10),\n",
    "]"
   ]
  },
  {
   "cell_type": "code",
   "execution_count": null,
   "metadata": {},
   "outputs": [],
   "source": [
    "sorted(student_objects, key=lambda student: student.age)"
   ]
  },
  {
   "cell_type": "code",
   "execution_count": null,
   "metadata": {},
   "outputs": [],
   "source": [
    "from operator import itemgetter, attrgetter\n",
    "\n",
    "sorted(student_tuples, key=itemgetter(2))"
   ]
  },
  {
   "cell_type": "code",
   "execution_count": null,
   "metadata": {},
   "outputs": [],
   "source": [
    "sorted(student_objects, key=attrgetter('age'))\n",
    "sorted(student_tuples, key=itemgetter(1, 2)) #다중 순회 허용\n",
    "sorted(student_objects, key=attrgetter('grade', 'age'))"
   ]
  },
  {
   "cell_type": "code",
   "execution_count": null,
   "metadata": {},
   "outputs": [],
   "source": [
    "sorted(student_tuples, key=itemgetter(2), reverse=True)"
   ]
  },
  {
   "cell_type": "code",
   "execution_count": null,
   "metadata": {},
   "outputs": [],
   "source": [
    "test = ['a', 'aaa', 'bb', 'cccc']"
   ]
  },
  {
   "cell_type": "code",
   "execution_count": null,
   "metadata": {},
   "outputs": [],
   "source": [
    "sorted(test, key=len)"
   ]
  },
  {
   "cell_type": "code",
   "execution_count": null,
   "metadata": {},
   "outputs": [],
   "source": [
    "test = [(30, 20, 10), (10, 100, 90), (90, 90, 90), (50, 20, 30), (10, 20, 10)]\n",
    "\n",
    "sorted(test)\n",
    "sorted(test, key = lambda x : x[0])\n",
    "sorted(test, key = lambda x : sum(x))"
   ]
  },
  {
   "cell_type": "code",
   "execution_count": null,
   "metadata": {},
   "outputs": [],
   "source": [
    "test = [10, 2, 1, 2, 9, 3, 0, 5, 5, 5, 6, 9, 3, 11, 22]\n",
    "우선순위그룹 = [0, 1, 11, 111]\n",
    "\n",
    "def 우선순위판별(값):\n",
    "    if 값 in 우선순위그룹:\n",
    "        return (False, 값)\n",
    "    return (True, 값)\n",
    "    \n",
    "sorted(test, key=우선순위판별)\n",
    "sorted(test, key=lambda x: False if x in 우선순위그룹 else True)\n",
    "sorted(test, key=lambda x: (False, x) if x in 우선순위그룹 else (True, x))"
   ]
  },
  {
   "cell_type": "markdown",
   "metadata": {},
   "source": [
    "## 1 minute, 스낵 파이썬 - 006. 타입 힌트(type annotation)\n",
    "\n",
    "* Python은 변수의 타입이 실행 시점에 결정되는 언어(동적 프로그래밍 언어)\n",
    "* C와 JAVA는 변수를 선언할 때 반드시 타입을 명시, 컴파일 시점에 변수의 타입이 결정(정적 프로그래밍 언어)\n",
    "* mypy 모듈을 사용하면 타입힌트에 오류가 있는지 확인할 수 있음"
   ]
  },
  {
   "cell_type": "code",
   "execution_count": null,
   "metadata": {},
   "outputs": [],
   "source": [
    "number = 1 # type: int\n",
    "\n",
    "def greeting(name):\n",
    "    # type: (str) -> str\n",
    "    return 'Hello, ' + name"
   ]
  },
  {
   "attachments": {
    "pycharm.png": {
     "image/png": "[encoded data removed]"
    }
   },
   "cell_type": "markdown",
   "metadata": {},
   "source": [
    "*  Pycharm\n",
    "\n",
    "![pycharm.png](attachment:pycharm.png)"
   ]
  },
  {
   "cell_type": "code",
   "execution_count": null,
   "metadata": {},
   "outputs": [],
   "source": [
    "# Python 3.5 이상 부터는 더 나은 타입 힌트를 위해 \n",
    "# 타입 어노테이션(type annotation)이라는 기능을 추가하였습니다."
   ]
  },
  {
   "cell_type": "code",
   "execution_count": null,
   "metadata": {},
   "outputs": [],
   "source": [
    "number: int = 1\n",
    "name: str = \"홍길동\"\n",
    "arr: list = ['a', 'b', 'c']"
   ]
  },
  {
   "cell_type": "code",
   "execution_count": null,
   "metadata": {},
   "outputs": [],
   "source": [
    "def greeting(name: str) -> str:\n",
    "    return 'Hello, ' + name"
   ]
  },
  {
   "cell_type": "code",
   "execution_count": null,
   "metadata": {},
   "outputs": [],
   "source": [
    "import typing\n",
    "\n",
    "arr: typing.List[int] = [1, 2, 3]\n",
    "alpha: typing.Tuple[str, str, str] = ('a', 'b', 'c')\n",
    "student: typing.Dict[str, int] = {'홍길동': 1, '춘향': 2}"
   ]
  },
  {
   "cell_type": "code",
   "execution_count": null,
   "metadata": {},
   "outputs": [],
   "source": [
    "number: int = '123'"
   ]
  },
  {
   "cell_type": "code",
   "execution_count": null,
   "metadata": {
    "scrolled": true
   },
   "outputs": [],
   "source": [
    "number"
   ]
  },
  {
   "cell_type": "markdown",
   "metadata": {},
   "source": [
    "## 1 minute, 스낵 파이썬 - 007. sum을 활용한 개별 요소 합치기"
   ]
  },
  {
   "cell_type": "code",
   "execution_count": null,
   "metadata": {},
   "outputs": [],
   "source": [
    "li = [['a', 'b', 'c'], [1, 2, 3], ['x', 'y', 'z']]\n",
    "sum(li, [])"
   ]
  },
  {
   "cell_type": "code",
   "execution_count": null,
   "metadata": {},
   "outputs": [],
   "source": [
    "li = (('a', 'b', 'c'), (1, 2, 3), ('x', 'y', 'z'))\n",
    "sum(li, ())"
   ]
  },
  {
   "cell_type": "code",
   "execution_count": null,
   "metadata": {},
   "outputs": [],
   "source": [
    "li = {1:'one', 2:'two'}\n",
    "sum(li, 5)"
   ]
  },
  {
   "cell_type": "code",
   "execution_count": null,
   "metadata": {},
   "outputs": [],
   "source": [
    "data = [[0, 1, 2],\n",
    "        [3, 4, 5],\n",
    "        [6, 7, 8]]"
   ]
  },
  {
   "cell_type": "code",
   "execution_count": null,
   "metadata": {},
   "outputs": [],
   "source": [
    "sum(sum(data, []))"
   ]
  },
  {
   "cell_type": "code",
   "execution_count": null,
   "metadata": {},
   "outputs": [],
   "source": [
    "import numpy as np\n",
    "\n",
    "data = [[0, 1, 2],\n",
    "        [3, 4, 5],\n",
    "        [6, 7, 8]]\n",
    "\n",
    "np.sum(data, axis = 1)"
   ]
  },
  {
   "cell_type": "markdown",
   "metadata": {},
   "source": [
    "## 1 minute, 스낵 파이썬 - 008. 제너레이터를 활용한 특정 값 무한 반복자 만들기"
   ]
  },
  {
   "cell_type": "code",
   "execution_count": null,
   "metadata": {},
   "outputs": [],
   "source": [
    "def range_1_to_4():\n",
    "    yield 1\n",
    "    yield 2\n",
    "    yield 3"
   ]
  },
  {
   "cell_type": "code",
   "execution_count": null,
   "metadata": {},
   "outputs": [],
   "source": [
    "for i in range_1_to_4():\n",
    "    print(i)"
   ]
  },
  {
   "cell_type": "code",
   "execution_count": null,
   "metadata": {},
   "outputs": [],
   "source": [
    "range_1_to_4()"
   ]
  },
  {
   "cell_type": "code",
   "execution_count": null,
   "metadata": {},
   "outputs": [],
   "source": [
    "g = range_1_to_4()"
   ]
  },
  {
   "cell_type": "code",
   "execution_count": null,
   "metadata": {},
   "outputs": [],
   "source": [
    "next(g)"
   ]
  },
  {
   "cell_type": "code",
   "execution_count": null,
   "metadata": {},
   "outputs": [],
   "source": [
    "g = (i for i in range(1, 4))"
   ]
  },
  {
   "cell_type": "code",
   "execution_count": null,
   "metadata": {
    "scrolled": true
   },
   "outputs": [],
   "source": [
    "g"
   ]
  },
  {
   "cell_type": "code",
   "execution_count": null,
   "metadata": {},
   "outputs": [],
   "source": [
    "for i in g:\n",
    "    print(i)"
   ]
  },
  {
   "cell_type": "code",
   "execution_count": null,
   "metadata": {},
   "outputs": [],
   "source": [
    "def repeat(반복자):\n",
    "    if 반복자:\n",
    "        while True:\n",
    "            for 반복자개별요소 in 반복자:\n",
    "                yield 반복자개별요소"
   ]
  },
  {
   "cell_type": "code",
   "execution_count": null,
   "metadata": {},
   "outputs": [],
   "source": [
    "list(zip(range(10), repeat('abc')))"
   ]
  },
  {
   "cell_type": "markdown",
   "metadata": {},
   "source": [
    "## 1 minute, 스낵 파이썬 - 009. 딕셔너리의 언패킹"
   ]
  },
  {
   "cell_type": "code",
   "execution_count": null,
   "metadata": {},
   "outputs": [],
   "source": [
    "test = {'one': 100, 'two': 200}"
   ]
  },
  {
   "cell_type": "code",
   "execution_count": null,
   "metadata": {
    "scrolled": true
   },
   "outputs": [],
   "source": [
    "a, b = test\n",
    "a, b"
   ]
  },
  {
   "cell_type": "code",
   "execution_count": null,
   "metadata": {},
   "outputs": [],
   "source": [
    "test_ = [{'one': 100, 'two': 200}, {'three': 300, 'four': 400}]"
   ]
  },
  {
   "cell_type": "code",
   "execution_count": null,
   "metadata": {},
   "outputs": [],
   "source": [
    "for i, j in test_:\n",
    "    print(i, j)"
   ]
  },
  {
   "cell_type": "code",
   "execution_count": null,
   "metadata": {},
   "outputs": [],
   "source": [
    "a, b = b, a\n",
    "a, b"
   ]
  },
  {
   "cell_type": "code",
   "execution_count": null,
   "metadata": {},
   "outputs": [],
   "source": [
    "def 언팩킹(a, b=None):\n",
    "    ##a와 b를 통한 연산\n",
    "    return a, b\n",
    "\n",
    "test = {'a': 100, 'b': 200}\n",
    "\n",
    "언팩킹(test)"
   ]
  },
  {
   "cell_type": "markdown",
   "metadata": {},
   "source": [
    "## 1 minute, 스낵 파이썬 - 010. 파이썬의 선과 PEP8"
   ]
  },
  {
   "cell_type": "code",
   "execution_count": null,
   "metadata": {},
   "outputs": [],
   "source": [
    "import this"
   ]
  },
  {
   "cell_type": "markdown",
   "metadata": {},
   "source": [
    "### pep8 요약\n",
    "\n",
    "* 스페이스 4번(탭X)\n",
    "* 라인 길이는 79자 이하(한글일 때에는 32자 정도로 생각하시면 됩니다.)\n",
    "* 파일 : 함수와 클래스 사이에는 2줄의 빈줄\n",
    "* 클래스 : 메서드 사이에는 1줄의 빈줄\n",
    "* 변수 대입에서 등호 양 옆에 스페이스 1개\n",
    "* 딕셔너리에 키와 콜론 사이에는 공백X, 값과 콜론은 스페이스 1개\n",
    "* 변수명은 스네이크 표기법을 권장\n",
    "* 클래스명은 카멜표기법 권장\n",
    "* 보호해야 하는 인스턴스의 애트리뷰트는 언더바 하나로 시작\n",
    "* 공개되지 말아야 하는 애트리뷰트는 언더바 두개로 시작\n",
    "* 조건문 안에 'len(컨테이너) == 0' 식으로 사용X 'if 컨테이너' 권장\n",
    "* 한 줄의 import 문에서는 하나의 모듈만 가져오기\n",
    "* 소스검사기 : 파이린트, 파이플레이크"
   ]
  },
  {
   "cell_type": "code",
   "execution_count": null,
   "metadata": {},
   "outputs": [],
   "source": [
    "class TestSample:\n",
    "    def __init__(self):\n",
    "        self._case = 0"
   ]
  },
  {
   "cell_type": "code",
   "execution_count": null,
   "metadata": {
    "scrolled": true
   },
   "outputs": [],
   "source": [
    "s = [1, 2, 3]\n",
    "while s:\n",
    "    print(s.pop())"
   ]
  },
  {
   "cell_type": "markdown",
   "metadata": {},
   "source": [
    "## 1 minute, 스낵 파이썬 - 011. 0.1+0.2는 0.3이 아니다.(부동소수점 정확도 문제 해결하기)\n",
    "\n",
    "* 위키디피아(정확도 문제 참고) : https://ko.wikipedia.org/wiki/부동소수점\n",
    "* 모든 언어의 부동소수점 문제 : \n",
    "https://0.30000000000000004.com/\n",
    "* 보다 엄밀한 연산을 위해 fractions에 Fraction도 사용가능"
   ]
  },
  {
   "cell_type": "code",
   "execution_count": null,
   "metadata": {},
   "outputs": [],
   "source": [
    "0.1 + 0.2"
   ]
  },
  {
   "cell_type": "code",
   "execution_count": null,
   "metadata": {},
   "outputs": [],
   "source": [
    "0.1 * 3"
   ]
  },
  {
   "cell_type": "code",
   "execution_count": null,
   "metadata": {},
   "outputs": [],
   "source": [
    "1.2 - 0.1"
   ]
  },
  {
   "cell_type": "code",
   "execution_count": null,
   "metadata": {},
   "outputs": [],
   "source": [
    "0.1 * 0.1"
   ]
  },
  {
   "cell_type": "code",
   "execution_count": null,
   "metadata": {
    "scrolled": true
   },
   "outputs": [],
   "source": [
    "0.1 + 0.2 == 0.3"
   ]
  },
  {
   "cell_type": "code",
   "execution_count": null,
   "metadata": {
    "scrolled": true
   },
   "outputs": [],
   "source": [
    "import decimal\n",
    "\n",
    "decimal.Decimal(0.1) #2진수로는 무한수"
   ]
  },
  {
   "cell_type": "code",
   "execution_count": null,
   "metadata": {
    "scrolled": false
   },
   "outputs": [],
   "source": [
    "decimal.Decimal('0.1') # 10진 연산에서 좀 더 정확한 연산을 위해서 스트링 값을 사용"
   ]
  },
  {
   "cell_type": "code",
   "execution_count": null,
   "metadata": {},
   "outputs": [],
   "source": [
    "decimal.Decimal('0.1') * 3 == 0.3"
   ]
  },
  {
   "cell_type": "code",
   "execution_count": null,
   "metadata": {},
   "outputs": [],
   "source": [
    "decimal.Decimal(0.1)"
   ]
  },
  {
   "cell_type": "code",
   "execution_count": null,
   "metadata": {},
   "outputs": [],
   "source": [
    "import math #python 3.5 이상\n",
    "\n",
    "math.isclose(0.1 + 0.2, 0.3)"
   ]
  },
  {
   "cell_type": "code",
   "execution_count": null,
   "metadata": {
    "scrolled": true
   },
   "outputs": [],
   "source": [
    "import math #python 3.5 이상\n",
    "\n",
    "math.isclose(1.2 - 0.1, 1.1)"
   ]
  },
  {
   "cell_type": "markdown",
   "metadata": {},
   "source": [
    "## 1 minute, 스낵 파이썬 - 012. 배열 이진 분할 알고리즘으로 검색속도 개선하기"
   ]
  },
  {
   "cell_type": "code",
   "execution_count": null,
   "metadata": {},
   "outputs": [],
   "source": [
    "data = list(range(100000000))"
   ]
  },
  {
   "cell_type": "code",
   "execution_count": null,
   "metadata": {},
   "outputs": [],
   "source": [
    "from bisect import bisect_left\n",
    "\n",
    "'''\n",
    "bisect.bisect_left(data, 10)# 첫번째 만나는 10\n",
    "bisect.bisect_right(data, 10) # 우리가 원하는 요소의 다음 값\n",
    "bisect.bisect(data, 10) # 우리가 원하는 요소의 다음 값\n",
    "bisect.insort_left(data, 10)\n",
    "bisect.insort_right(data, 10)\n",
    "'''"
   ]
  },
  {
   "cell_type": "code",
   "execution_count": null,
   "metadata": {},
   "outputs": [],
   "source": [
    "%%timeit\n",
    "\n",
    "data.index(99999999) #리스트에는 find도 없다!"
   ]
  },
  {
   "cell_type": "code",
   "execution_count": null,
   "metadata": {},
   "outputs": [],
   "source": [
    "%%timeit\n",
    "\n",
    "from bisect import bisect_left #이진탐색\n",
    "\n",
    "bisect_left(data, 99999999) #로그복잡도"
   ]
  },
  {
   "cell_type": "code",
   "execution_count": null,
   "metadata": {},
   "outputs": [],
   "source": [
    "from bisect import bisect_left\n",
    "\n",
    "bisect_left(data, -100)"
   ]
  },
  {
   "cell_type": "markdown",
   "metadata": {},
   "source": [
    "## 1 minute, 스낵 파이썬 - 013. 클로저를 활용한 환율 변환기로 알아보는 free variable"
   ]
  },
  {
   "cell_type": "code",
   "execution_count": null,
   "metadata": {},
   "outputs": [],
   "source": [
    "def a(x):\n",
    "    def b(y):\n",
    "        return y ** x\n",
    "    return b"
   ]
  },
  {
   "cell_type": "code",
   "execution_count": null,
   "metadata": {},
   "outputs": [],
   "source": [
    "test = a(2)\n",
    "test(10)"
   ]
  },
  {
   "cell_type": "code",
   "execution_count": null,
   "metadata": {},
   "outputs": [],
   "source": [
    "test = a(3)\n",
    "test(10)"
   ]
  },
  {
   "cell_type": "code",
   "execution_count": null,
   "metadata": {},
   "outputs": [],
   "source": [
    "def a(x):\n",
    "    return lambda y:y**x\n",
    "\n",
    "test = a(2)\n",
    "test(10)"
   ]
  },
  {
   "cell_type": "code",
   "execution_count": null,
   "metadata": {},
   "outputs": [],
   "source": [
    "test = a(3)\n",
    "test(10)"
   ]
  },
  {
   "cell_type": "code",
   "execution_count": null,
   "metadata": {},
   "outputs": [],
   "source": [
    "# 재사용성\n",
    "# 연산 속도 상승(마치 메모이제이션처럼 사용하기 위해)\n",
    "def 환율변환기(나라, 환율):\n",
    "    변환된환율 = [] #free variable(지역 범위가 사라져서 범위가 바인된 안됨)\n",
    "    def 계산기(원):\n",
    "        변환된환율.append(나라)\n",
    "        return f'입력값 : {나라}, 변환값 : {format(환율 * 원, \",\")}원, {변환된환율}'\n",
    "    return 계산기"
   ]
  },
  {
   "cell_type": "code",
   "execution_count": null,
   "metadata": {},
   "outputs": [],
   "source": [
    "달러 = 환율변환기('미국', 1000)\n",
    "달러(100)"
   ]
  },
  {
   "cell_type": "code",
   "execution_count": null,
   "metadata": {},
   "outputs": [],
   "source": [
    "엔 = 환율변환기('일본', 10)\n",
    "엔(100)"
   ]
  },
  {
   "cell_type": "code",
   "execution_count": null,
   "metadata": {},
   "outputs": [],
   "source": [
    "dir(엔)"
   ]
  },
  {
   "cell_type": "code",
   "execution_count": null,
   "metadata": {},
   "outputs": [],
   "source": [
    "엔.__code__.co_varnames"
   ]
  },
  {
   "cell_type": "code",
   "execution_count": null,
   "metadata": {
    "scrolled": true
   },
   "outputs": [],
   "source": [
    "엔.__code__.co_freevars"
   ]
  },
  {
   "cell_type": "markdown",
   "metadata": {},
   "source": [
    "## 1 minute, 스낵 파이썬 - 014. heapq는 얼마나 빠른가?\n",
    "\n",
    "* 원소의 추가 : heapq.heappush(heap, 추가할_값)\n",
    "* 원소의 삭제 : heapq.heappop(heap)"
   ]
  },
  {
   "cell_type": "code",
   "execution_count": null,
   "metadata": {},
   "outputs": [],
   "source": [
    "import random\n",
    "import heapq"
   ]
  },
  {
   "cell_type": "code",
   "execution_count": null,
   "metadata": {},
   "outputs": [],
   "source": [
    "%%timeit\n",
    "\n",
    "heap = [random.randint(1, 100000) for _ in range(5000000)]\n",
    "heap.sort()\n",
    "heap[0], heap[1], heap[2]"
   ]
  },
  {
   "cell_type": "code",
   "execution_count": null,
   "metadata": {},
   "outputs": [],
   "source": [
    "%%timeit\n",
    "\n",
    "heap = [random.randint(1, 100000) for _ in range(5000000)]\n",
    "heapq.heapify(heap)\n",
    "heapq.heappop(heap), heapq.heappop(heap), heapq.heappop(heap)"
   ]
  },
  {
   "cell_type": "code",
   "execution_count": null,
   "metadata": {},
   "outputs": [],
   "source": [
    "%%timeit\n",
    "\n",
    "heap = []\n",
    "\n",
    "for _ in range(5000000):\n",
    "    heapq.heappush(heap, random.randint(1, 100000))"
   ]
  },
  {
   "cell_type": "code",
   "execution_count": null,
   "metadata": {
    "scrolled": true
   },
   "outputs": [],
   "source": [
    "heap = [random.randint(1, 10) for _ in range(10)]\n",
    "print(heap)\n",
    "heapq.heapify(heap)\n",
    "print(heap)\n",
    "print(heapq.heappop(heap), heapq.heappop(heap), heapq.heappop(heap))\n",
    "print(heap)"
   ]
  },
  {
   "cell_type": "code",
   "execution_count": null,
   "metadata": {},
   "outputs": [],
   "source": [
    "heap = [random.randint(1, 100000) for _ in range(5000000)]"
   ]
  },
  {
   "cell_type": "code",
   "execution_count": null,
   "metadata": {},
   "outputs": [],
   "source": [
    "%%timeit\n",
    "\n",
    "heap.sort()\n",
    "heap[0], heap[1], heap[2]"
   ]
  },
  {
   "cell_type": "code",
   "execution_count": null,
   "metadata": {},
   "outputs": [],
   "source": [
    "heap = [random.randint(1, 100000) for _ in range(5000000)]"
   ]
  },
  {
   "cell_type": "code",
   "execution_count": null,
   "metadata": {
    "scrolled": true
   },
   "outputs": [],
   "source": [
    "%%timeit\n",
    "\n",
    "heapq.heapify(heap)\n",
    "heapq.heappop(heap), heapq.heappop(heap), heapq.heappop(heap)"
   ]
  },
  {
   "cell_type": "markdown",
   "metadata": {},
   "source": [
    "## 1 minute, 스낵 파이썬 - 015. 독스트링(Documentation string)으로 정확하고 빠르게 개발합시다.(PEP 257)\n",
    "\n",
    "* PEP 257 전문 (https://www.python.org/dev/peps/pep-0257/)\n",
    "* 객체를(클래스, 함수, 메서드, 모듈) 설명하는 한 문장을 가장 앞에 배치\n",
    "* 큰 따옴표\n",
    "* 예외 발생에 대한 상황과 설명"
   ]
  },
  {
   "cell_type": "code",
   "execution_count": null,
   "metadata": {},
   "outputs": [],
   "source": [
    "def 제곱(수):\n",
    "    \"\"\"입력된 값을 제곱하는 함수\"\"\"\n",
    "    return 수**2"
   ]
  },
  {
   "cell_type": "code",
   "execution_count": null,
   "metadata": {},
   "outputs": [],
   "source": [
    "class SearchTree:\n",
    "    \"\"\"서비스의 검색속도 개선을 위한 검색 트리\"\"\"\n",
    "    pass"
   ]
  },
  {
   "cell_type": "code",
   "execution_count": null,
   "metadata": {},
   "outputs": [],
   "source": [
    "#PEP 257 예제\n",
    "def foo():\n",
    "    \"\"\"\n",
    "    This is the second line of the docstring.\n",
    "    \"\"\""
   ]
  },
  {
   "cell_type": "code",
   "execution_count": null,
   "metadata": {},
   "outputs": [],
   "source": [
    "제곱.__doc__"
   ]
  },
  {
   "cell_type": "code",
   "execution_count": null,
   "metadata": {},
   "outputs": [],
   "source": [
    "foo.__doc__"
   ]
  },
  {
   "cell_type": "code",
   "execution_count": null,
   "metadata": {},
   "outputs": [],
   "source": [
    "제곱 #shif + tab을 누르면 docstring이 나옴!"
   ]
  },
  {
   "cell_type": "markdown",
   "metadata": {},
   "source": [
    "* docstring을 wiki처럼! - 스핑크스(https://www.sphinx-doc.org)\n",
    "* 무려 Python의 공식홈페이지가 스핑크스로 만들어졌습니다!"
   ]
  },
  {
   "cell_type": "code",
   "execution_count": null,
   "metadata": {
    "scrolled": false
   },
   "outputs": [],
   "source": [
    "from hello import helloworld\n",
    "\n",
    "help(helloworld)"
   ]
  },
  {
   "cell_type": "markdown",
   "metadata": {},
   "source": [
    "## 1 minute, 스낵 파이썬 - 016. 프로파일링을 통한 코드 최적화 팁\n",
    "\n",
    "* 이 챕터에서 다룰 내용 : 프로파일(https://docs.python.org/ko/3/library/profile.html)\n",
    "* snakeviz 사용한 보고서 생성(https://jiffyclub.github.io/snakeviz/)\n",
    "\n",
    "---\n",
    "\n",
    "* 처리 속도 측정 후 가장 속도 개선이 필요한 부분부터 개선해나가는 것이 좋습니다. 통상 아주 짧은 반복문 등은 개선할 여지가 더이상 없을 가능성이 크니까요.\n",
    "* 반복문을 사용하지 않고 문제를 해결할 수 있는 방법이 있는지 찾습니다.(zip, map, filter 등을 사용)\n",
    "* 파이썬의 내장함수를 사용합니다.\n",
    "* 파이썬의 내장함수보다 빠른 라이브러리가 있는지 찾습니다.\n",
    "* 전역 변수를 사용하면 느려집니다. 지역변수를 사용하세요. global 사용을 권장하지 않습니다.\n",
    "* 가비지 컬렉션이 있지만, 사용이 끝난 변수가 원시 객체일 때에는 메모리 영역을 캐시로 유지하는 경우가 있으니 크기가 큰 데이터는 del 키워드를 사용하여 삭제하거나 함수 안에서 사용하여 함수가 끝날 때 삭제되도록 유도합니다.\n",
    "* numpy나 pandas에서 in-place로 원본을 직접 수정하거나 사본생성을 하는 flatten같은 것은 사본 생성을 안하는 ravel로 대체합니다."
   ]
  },
  {
   "cell_type": "code",
   "execution_count": 1,
   "metadata": {},
   "outputs": [
    {
     "name": "stdout",
     "output_type": "stream",
     "text": [
      "         16435 function calls (14436 primitive calls) in 0.012 seconds\n",
      "\n",
      "   Ordered by: standard name\n",
      "\n",
      "   ncalls  tottime  percall  cumtime  percall filename:lineno(function)\n",
      "        1    0.000    0.000    0.000    0.000 <ipython-input-1-f08d132cf789>:10(문자열거꾸로_슬라이싱)\n",
      "        1    0.000    0.000    0.000    0.000 <ipython-input-1-f08d132cf789>:13(문자열거꾸로_반복문)\n",
      "        1    0.000    0.000    0.012    0.012 <ipython-input-1-f08d132cf789>:20(test_set)\n",
      "        1    0.001    0.001    0.005    0.005 <ipython-input-1-f08d132cf789>:21(<listcomp>)\n",
      "   2000/1    0.006    0.000    0.006    0.006 <ipython-input-1-f08d132cf789>:4(문자열거꾸로_재귀함수)\n",
      "        1    0.000    0.000    0.012    0.012 <string>:1(<module>)\n",
      "     2000    0.002    0.000    0.003    0.000 random.py:200(randrange)\n",
      "     2000    0.001    0.000    0.004    0.000 random.py:244(randint)\n",
      "     2000    0.001    0.000    0.001    0.000 random.py:250(_randbelow_with_getrandbits)\n",
      "     2000    0.000    0.000    0.000    0.000 {built-in method builtins.chr}\n",
      "        1    0.000    0.000    0.012    0.012 {built-in method builtins.exec}\n",
      "     2000    0.000    0.000    0.000    0.000 {built-in method builtins.len}\n",
      "     2000    0.000    0.000    0.000    0.000 {method 'bit_length' of 'int' objects}\n",
      "        1    0.000    0.000    0.000    0.000 {method 'disable' of '_lsprof.Profiler' objects}\n",
      "     2427    0.000    0.000    0.000    0.000 {method 'getrandbits' of '_random.Random' objects}\n",
      "        1    0.000    0.000    0.000    0.000 {method 'join' of 'str' objects}\n",
      "\n",
      "\n"
     ]
    }
   ],
   "source": [
    "import random\n",
    "import cProfile\n",
    "\n",
    "def 문자열거꾸로_재귀함수(s):\n",
    "    if len(s) == 1:\n",
    "        return s\n",
    "    else:\n",
    "        return 문자열거꾸로_재귀함수(s[1:]) + s[0] \n",
    "\n",
    "def 문자열거꾸로_슬라이싱(s):\n",
    "    return s[::-1]\n",
    "\n",
    "def 문자열거꾸로_반복문(s):\n",
    "    answer = ''\n",
    "    for i in s:\n",
    "        answer = i + answer\n",
    "    return answer\n",
    "\n",
    "\n",
    "def test_set():\n",
    "    s = ''.join([chr(random.randint(97, 122)) for _ in range(2000)])\n",
    "    문자열거꾸로_재귀함수(s)\n",
    "    문자열거꾸로_슬라이싱(s)\n",
    "    문자열거꾸로_반복문(s)\n",
    "\n",
    "\n",
    "cProfile.run(\"test_set()\")"
   ]
  }
 ],
 "metadata": {
  "kernelspec": {
   "display_name": "Python 3",
   "language": "python",
   "name": "python3"
  },
  "language_info": {
   "codemirror_mode": {
    "name": "ipython",
    "version": 3
   },
   "file_extension": ".py",
   "mimetype": "text/x-python",
   "name": "python",
   "nbconvert_exporter": "python",
   "pygments_lexer": "ipython3",
   "version": "3.8.5"
  }
 },
 "nbformat": 4,
 "nbformat_minor": 4
}
