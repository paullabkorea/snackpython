{
  "nbformat": 4,
  "nbformat_minor": 0,
  "metadata": {
    "colab": {
      "name": "024_언더바를_이용한_숫자표현.ipynb",
      "provenance": []
    },
    "kernelspec": {
      "name": "python3",
      "display_name": "Python 3"
    },
    "language_info": {
      "name": "python"
    }
  },
  "cells": [
    {
      "cell_type": "code",
      "metadata": {
        "colab": {
          "base_uri": "https://localhost:8080/"
        },
        "id": "3095tNwXeB45",
        "outputId": "8df40b58-e43f-4b60-884f-a19108328e76"
      },
      "source": [
        "s = 0\n",
        "for i in range(100_000):\n",
        "    s += i\n",
        "s"
      ],
      "execution_count": null,
      "outputs": [
        {
          "output_type": "execute_result",
          "data": {
            "text/plain": [
              "4999950000"
            ]
          },
          "metadata": {},
          "execution_count": 1
        }
      ]
    },
    {
      "cell_type": "code",
      "metadata": {
        "colab": {
          "base_uri": "https://localhost:8080/"
        },
        "id": "G0RfXVvMet8e",
        "outputId": "2df742ec-f402-447b-9858-0bb80d3ced0b"
      },
      "source": [
        "100_000"
      ],
      "execution_count": null,
      "outputs": [
        {
          "output_type": "execute_result",
          "data": {
            "text/plain": [
              "100000"
            ]
          },
          "metadata": {},
          "execution_count": 2
        }
      ]
    },
    {
      "cell_type": "code",
      "metadata": {
        "colab": {
          "base_uri": "https://localhost:8080/"
        },
        "id": "jzMOxTPAev3W",
        "outputId": "754a147c-2487-4ce8-ccdb-fb07f0ec5f17"
      },
      "source": [
        "100_0_00"
      ],
      "execution_count": null,
      "outputs": [
        {
          "output_type": "execute_result",
          "data": {
            "text/plain": [
              "100000"
            ]
          },
          "metadata": {},
          "execution_count": 6
        }
      ]
    },
    {
      "cell_type": "code",
      "metadata": {
        "colab": {
          "base_uri": "https://localhost:8080/"
        },
        "id": "-XN7n1PPe-Od",
        "outputId": "c0a57699-c8ec-4c70-e19e-19803221d6dd"
      },
      "source": [
        "s = 0\n",
        "value = [1, 2, 3, 4, 5, 6]\n",
        "for _ in range(100_000):\n",
        "    a, _, *b = value\n",
        "    s += _\n",
        "s"
      ],
      "execution_count": null,
      "outputs": [
        {
          "output_type": "execute_result",
          "data": {
            "text/plain": [
              "200000"
            ]
          },
          "metadata": {},
          "execution_count": 14
        }
      ]
    },
    {
      "cell_type": "code",
      "metadata": {
        "colab": {
          "base_uri": "https://localhost:8080/"
        },
        "id": "ZJUafbc1gOnt",
        "outputId": "e7e84c8c-cec2-4da1-84dc-2fd4aebeaaf9"
      },
      "source": [
        "value = [1, 2, 3, 4, 5, 6]\n",
        "a, _, *b = value\n",
        "b"
      ],
      "execution_count": null,
      "outputs": [
        {
          "output_type": "execute_result",
          "data": {
            "text/plain": [
              "[3, 4, 5, 6]"
            ]
          },
          "metadata": {},
          "execution_count": 17
        }
      ]
    }
  ]
}