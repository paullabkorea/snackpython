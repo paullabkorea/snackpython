{
  "nbformat": 4,
  "nbformat_minor": 0,
  "metadata": {
    "colab": {
      "name": "022_slots을_이용한_class_효율_높이기.ipynb",
      "provenance": []
    },
    "kernelspec": {
      "name": "python3",
      "display_name": "Python 3"
    },
    "language_info": {
      "name": "python"
    }
  },
  "cells": [
    {
      "cell_type": "markdown",
      "metadata": {
        "id": "dXT8j2KCciym"
      },
      "source": [
        "## slots을_이용한_class_효율_높이기\n",
        "\n",
        "* slots는 `__dict__`를 생성하지 않음으로 메모리 개선\n",
        "* dict와 유사하거나 좀 더 축소화된 자료형을 만들어서 사용될 때 자주 사용됨"
      ]
    },
    {
      "cell_type": "markdown",
      "metadata": {
        "id": "-sQouOIXUww3"
      },
      "source": [
        "## 테스트 항목\n",
        "\n",
        "```python\n",
        "테스트_기본_리스트 = [list() for i in range(10000)]\n",
        "테스트_작성한_리스트 = [LinkedList() for i in range(10000)]\n",
        "테스트_slot_반영_리스트 = [LinkedList() for i in range(10000)]\n",
        "```"
      ]
    },
    {
      "cell_type": "code",
      "metadata": {
        "colab": {
          "base_uri": "https://localhost:8080/"
        },
        "id": "a5wGqT2aU8kz",
        "outputId": "538516f5-c568-47ed-d0ab-9e34783949d9"
      },
      "source": [
        "%%timeit\n",
        "\n",
        "테스트_기본_리스트 = [list() for i in range(1000000)]"
      ],
      "execution_count": 2,
      "outputs": [
        {
          "output_type": "stream",
          "text": [
            "10 loops, best of 5: 184 ms per loop\n"
          ],
          "name": "stdout"
        }
      ]
    },
    {
      "cell_type": "code",
      "metadata": {
        "colab": {
          "base_uri": "https://localhost:8080/"
        },
        "id": "x5uE0MFdVwme",
        "outputId": "454b1a38-1929-4034-c3df-93e4236e0832"
      },
      "source": [
        "테스트_기본_리스트 = [list() for i in range(1000000)]\n",
        "\n",
        "테스트_기본_리스트[0].append(10)\n",
        "테스트_기본_리스트[0]"
      ],
      "execution_count": 3,
      "outputs": [
        {
          "output_type": "execute_result",
          "data": {
            "text/plain": [
              "[10]"
            ]
          },
          "metadata": {
            "tags": []
          },
          "execution_count": 3
        }
      ]
    },
    {
      "cell_type": "code",
      "metadata": {
        "id": "9RAvI_QCTaH7"
      },
      "source": [
        "class Node:\n",
        "    def __init__(self, data):\n",
        "        self.data = data\n",
        "        self.next = None\n",
        "        \n",
        "class LinkedList:\n",
        "    def __init__(self):\n",
        "        init = Node('init')\n",
        "        self.head = init\n",
        "        self.tail = init\n",
        "        \n",
        "        self.현재노드 = None\n",
        "        self.데이터수 = 0\n",
        "    \n",
        "    def __str__(self):\n",
        "        \n",
        "        현재노드 = self.head\n",
        "        현재노드 = 현재노드.next\n",
        "        s = ''\n",
        "        \n",
        "        for i in range(self.데이터수):\n",
        "            s += f'{현재노드.data}, '\n",
        "            현재노드 = 현재노드.next\n",
        "            \n",
        "        return f'[{s[:-2]}]'\n",
        "    \n",
        "    def append(self, data):\n",
        "        새로운노드 = Node(data)\n",
        "        self.tail.next = 새로운노드\n",
        "        self.tail = 새로운노드\n",
        "        self.데이터수 += 1"
      ],
      "execution_count": 4,
      "outputs": []
    },
    {
      "cell_type": "code",
      "metadata": {
        "colab": {
          "base_uri": "https://localhost:8080/"
        },
        "id": "wc5YuIPOVLu7",
        "outputId": "303b850f-e1eb-4182-c408-c86eab1fae62"
      },
      "source": [
        "%%timeit\n",
        "\n",
        "테스트_작성한_리스트 = [LinkedList() for i in range(1000000)]"
      ],
      "execution_count": 5,
      "outputs": [
        {
          "output_type": "stream",
          "text": [
            "1 loop, best of 5: 902 ms per loop\n"
          ],
          "name": "stdout"
        }
      ]
    },
    {
      "cell_type": "code",
      "metadata": {
        "colab": {
          "base_uri": "https://localhost:8080/"
        },
        "id": "EGOerEiKV57U",
        "outputId": "7678d263-2001-4bd5-a3ed-6245f3f1e181"
      },
      "source": [
        "테스트_기본_리스트 = [LinkedList() for i in range(1000000)]\n",
        "\n",
        "테스트_기본_리스트[0].append(10)\n",
        "print(테스트_기본_리스트[0])"
      ],
      "execution_count": 6,
      "outputs": [
        {
          "output_type": "stream",
          "text": [
            "[10]\n"
          ],
          "name": "stdout"
        }
      ]
    },
    {
      "cell_type": "code",
      "metadata": {
        "colab": {
          "base_uri": "https://localhost:8080/"
        },
        "id": "7kvSmv1vXjU6",
        "outputId": "cff98070-881b-40af-ba9b-4ce702afed3f"
      },
      "source": [
        "test = LinkedList()\n",
        "test.__dict__"
      ],
      "execution_count": 7,
      "outputs": [
        {
          "output_type": "execute_result",
          "data": {
            "text/plain": [
              "{'head': <__main__.Node at 0x7efd7d7b50d0>,\n",
              " 'tail': <__main__.Node at 0x7efd7d7b50d0>,\n",
              " '데이터수': 0,\n",
              " '현재노드': None}"
            ]
          },
          "metadata": {
            "tags": []
          },
          "execution_count": 7
        }
      ]
    },
    {
      "cell_type": "code",
      "metadata": {
        "colab": {
          "base_uri": "https://localhost:8080/"
        },
        "id": "bO3M0R3SYeyk",
        "outputId": "c64a68dd-95bd-44ba-d0cd-6373719f5b65"
      },
      "source": [
        "dir(test)"
      ],
      "execution_count": 8,
      "outputs": [
        {
          "output_type": "execute_result",
          "data": {
            "text/plain": [
              "['__class__',\n",
              " '__delattr__',\n",
              " '__dict__',\n",
              " '__dir__',\n",
              " '__doc__',\n",
              " '__eq__',\n",
              " '__format__',\n",
              " '__ge__',\n",
              " '__getattribute__',\n",
              " '__gt__',\n",
              " '__hash__',\n",
              " '__init__',\n",
              " '__init_subclass__',\n",
              " '__le__',\n",
              " '__lt__',\n",
              " '__module__',\n",
              " '__ne__',\n",
              " '__new__',\n",
              " '__reduce__',\n",
              " '__reduce_ex__',\n",
              " '__repr__',\n",
              " '__setattr__',\n",
              " '__sizeof__',\n",
              " '__str__',\n",
              " '__subclasshook__',\n",
              " '__weakref__',\n",
              " 'append',\n",
              " 'head',\n",
              " 'tail',\n",
              " '데이터수',\n",
              " '현재노드']"
            ]
          },
          "metadata": {
            "tags": []
          },
          "execution_count": 8
        }
      ]
    },
    {
      "cell_type": "code",
      "metadata": {
        "id": "qiOX1ZbiUIjQ"
      },
      "source": [
        "class Node:\n",
        "    __slots__ = ['data', 'next']\n",
        "    def __init__(self, data):\n",
        "        self.data = data\n",
        "        self.next = None\n",
        "        \n",
        "class LinkedList:\n",
        "    __slots__ = ['head', 'tail', '현재노드', '데이터수']\n",
        "\n",
        "    def __init__(self):\n",
        "        init = Node('init')\n",
        "        self.head = init\n",
        "        self.tail = init\n",
        "        \n",
        "        self.현재노드 = None\n",
        "        self.데이터수 = 0\n",
        "    \n",
        "    def __str__(self):\n",
        "        \n",
        "        현재노드 = self.head\n",
        "        현재노드 = 현재노드.next\n",
        "        s = ''\n",
        "        \n",
        "        for i in range(self.데이터수):\n",
        "            s += f'{현재노드.data}, '\n",
        "            현재노드 = 현재노드.next\n",
        "            \n",
        "        return f'[{s[:-2]}]'\n",
        "    \n",
        "    def append(self, data):\n",
        "        새로운노드 = Node(data)\n",
        "        self.tail.next = 새로운노드\n",
        "        self.tail = 새로운노드\n",
        "        self.데이터수 += 1"
      ],
      "execution_count": 9,
      "outputs": []
    },
    {
      "cell_type": "code",
      "metadata": {
        "colab": {
          "base_uri": "https://localhost:8080/"
        },
        "id": "fMHUZNiLTj_o",
        "outputId": "4efbc3db-4084-4914-ae52-21178b0522d3"
      },
      "source": [
        "%%timeit\n",
        "\n",
        "테스트_slot_반영_리스트 = [LinkedList() for i in range(1000000)]"
      ],
      "execution_count": 10,
      "outputs": [
        {
          "output_type": "stream",
          "text": [
            "1 loop, best of 5: 664 ms per loop\n"
          ],
          "name": "stdout"
        }
      ]
    },
    {
      "cell_type": "code",
      "metadata": {
        "colab": {
          "base_uri": "https://localhost:8080/"
        },
        "id": "Y4htld25WTe1",
        "outputId": "cf45dc8a-12c6-4d5f-8107-d980ab317d15"
      },
      "source": [
        "테스트_기본_리스트 = [LinkedList() for i in range(1000000)]\n",
        "\n",
        "테스트_기본_리스트[0].append(10)\n",
        "print(테스트_기본_리스트[0])"
      ],
      "execution_count": 11,
      "outputs": [
        {
          "output_type": "stream",
          "text": [
            "[10]\n"
          ],
          "name": "stdout"
        }
      ]
    },
    {
      "cell_type": "code",
      "metadata": {
        "colab": {
          "base_uri": "https://localhost:8080/",
          "height": 185
        },
        "id": "weWWZIWoW9vc",
        "outputId": "d784bfc3-5898-4010-b620-14215955304f"
      },
      "source": [
        "test = LinkedList()\n",
        "test.__dict__"
      ],
      "execution_count": 12,
      "outputs": [
        {
          "output_type": "error",
          "ename": "AttributeError",
          "evalue": "ignored",
          "traceback": [
            "\u001b[0;31m---------------------------------------------------------------------------\u001b[0m",
            "\u001b[0;31mAttributeError\u001b[0m                            Traceback (most recent call last)",
            "\u001b[0;32m<ipython-input-12-e63e4b5b6745>\u001b[0m in \u001b[0;36m<module>\u001b[0;34m()\u001b[0m\n\u001b[1;32m      1\u001b[0m \u001b[0mtest\u001b[0m \u001b[0;34m=\u001b[0m \u001b[0mLinkedList\u001b[0m\u001b[0;34m(\u001b[0m\u001b[0;34m)\u001b[0m\u001b[0;34m\u001b[0m\u001b[0;34m\u001b[0m\u001b[0m\n\u001b[0;32m----> 2\u001b[0;31m \u001b[0mtest\u001b[0m\u001b[0;34m.\u001b[0m\u001b[0m__dict__\u001b[0m\u001b[0;34m\u001b[0m\u001b[0;34m\u001b[0m\u001b[0m\n\u001b[0m",
            "\u001b[0;31mAttributeError\u001b[0m: 'LinkedList' object has no attribute '__dict__'"
          ]
        }
      ]
    },
    {
      "cell_type": "code",
      "metadata": {
        "colab": {
          "base_uri": "https://localhost:8080/"
        },
        "id": "g8_BF51EYryf",
        "outputId": "e28ed726-181f-4851-e084-dacf4f96750f"
      },
      "source": [
        "dir(test)"
      ],
      "execution_count": 13,
      "outputs": [
        {
          "output_type": "execute_result",
          "data": {
            "text/plain": [
              "['__class__',\n",
              " '__delattr__',\n",
              " '__dir__',\n",
              " '__doc__',\n",
              " '__eq__',\n",
              " '__format__',\n",
              " '__ge__',\n",
              " '__getattribute__',\n",
              " '__gt__',\n",
              " '__hash__',\n",
              " '__init__',\n",
              " '__init_subclass__',\n",
              " '__le__',\n",
              " '__lt__',\n",
              " '__module__',\n",
              " '__ne__',\n",
              " '__new__',\n",
              " '__reduce__',\n",
              " '__reduce_ex__',\n",
              " '__repr__',\n",
              " '__setattr__',\n",
              " '__sizeof__',\n",
              " '__slots__',\n",
              " '__str__',\n",
              " '__subclasshook__',\n",
              " 'append',\n",
              " 'head',\n",
              " 'tail',\n",
              " '데이터수',\n",
              " '현재노드']"
            ]
          },
          "metadata": {
            "tags": []
          },
          "execution_count": 13
        }
      ]
    }
  ]
}