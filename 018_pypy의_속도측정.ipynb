{
  "nbformat": 4,
  "nbformat_minor": 0,
  "metadata": {
    "colab": {
      "name": "pypy의 속도측정.ipynb",
      "provenance": []
    },
    "kernelspec": {
      "name": "python3",
      "display_name": "Python 3"
    },
    "language_info": {
      "name": "python"
    }
  },
  "cells": [
    {
      "cell_type": "markdown",
      "metadata": {
        "id": "93NyYzwSSCh9"
      },
      "source": [
        "## pypy\n",
        "\n",
        "* PyPI(파이피아이)와 pypy(파이파이)는 발음에 주의해주세요.\n",
        "* 속도 면에서 매우 우월하며 jupyter notebook에서 python3가 아닌 pypy로만 코딩할 수 있습니다.(모든 모듈을 지원하진 않습니다.)\n",
        "* 넘파이도 많은 부분이 파이파이로 실행됩니다.\n",
        "* cpython보다 속도가 우월합니다.(인터넷 벤치마크 참고해주세요.)\n",
        "* 실행추적 JIT(Just In Time) 컴파일을 제공하기 때문입니다.\n",
        "* 연산이 많이 사용되는 프로젝트(OpenGL 등)에 사용하세요.\n",
        "* 코드 블록으로만 사용도 가능합니다.\n"
      ]
    },
    {
      "cell_type": "code",
      "metadata": {
        "colab": {
          "base_uri": "https://localhost:8080/"
        },
        "id": "79TspsI2Q67y",
        "outputId": "f08000f7-aab3-4269-9788-4225c907507c"
      },
      "source": [
        "!apt-get install pypy"
      ],
      "execution_count": 1,
      "outputs": [
        {
          "output_type": "stream",
          "text": [
            "Reading package lists... Done\n",
            "Building dependency tree       \n",
            "Reading state information... Done\n",
            "The following additional packages will be installed:\n",
            "  pypy-lib\n",
            "Suggested packages:\n",
            "  pypy-doc pypy-tk\n",
            "The following NEW packages will be installed:\n",
            "  pypy pypy-lib\n",
            "0 upgraded, 2 newly installed, 0 to remove and 39 not upgraded.\n",
            "Need to get 13.1 MB of archives.\n",
            "After this operation, 84.6 MB of additional disk space will be used.\n",
            "Get:1 http://archive.ubuntu.com/ubuntu bionic/universe amd64 pypy-lib amd64 5.10.0+dfsg-3build2 [2,303 kB]\n",
            "Get:2 http://archive.ubuntu.com/ubuntu bionic/universe amd64 pypy amd64 5.10.0+dfsg-3build2 [10.8 MB]\n",
            "Fetched 13.1 MB in 1s (11.8 MB/s)\n",
            "Selecting previously unselected package pypy-lib:amd64.\n",
            "(Reading database ... 160772 files and directories currently installed.)\n",
            "Preparing to unpack .../pypy-lib_5.10.0+dfsg-3build2_amd64.deb ...\n",
            "Unpacking pypy-lib:amd64 (5.10.0+dfsg-3build2) ...\n",
            "Selecting previously unselected package pypy.\n",
            "Preparing to unpack .../pypy_5.10.0+dfsg-3build2_amd64.deb ...\n",
            "Unpacking pypy (5.10.0+dfsg-3build2) ...\n",
            "Setting up pypy-lib:amd64 (5.10.0+dfsg-3build2) ...\n",
            "Setting up pypy (5.10.0+dfsg-3build2) ...\n",
            "running pypy rtupdate hooks for 5.10\n",
            "running pypy post-rtupdate hooks for 5.10\n",
            "Processing triggers for man-db (2.8.3-2ubuntu0.1) ...\n"
          ],
          "name": "stdout"
        }
      ]
    },
    {
      "cell_type": "code",
      "metadata": {
        "colab": {
          "base_uri": "https://localhost:8080/"
        },
        "id": "_PvRsqeUQ-Kt",
        "outputId": "d9765d3a-04d5-41cd-d796-4906742274c1"
      },
      "source": [
        "%%pypy\n",
        "import time\n",
        "\n",
        "start = time.time()\n",
        "print(sum([i for i in range(10000000)]))\n",
        "print(time.time() - start)"
      ],
      "execution_count": 15,
      "outputs": [
        {
          "output_type": "stream",
          "text": [
            "49999995000000\n",
            "0.0727849006653\n"
          ],
          "name": "stdout"
        }
      ]
    },
    {
      "cell_type": "code",
      "metadata": {
        "colab": {
          "base_uri": "https://localhost:8080/"
        },
        "id": "7wo2AljYR4w_",
        "outputId": "eb316d1b-fd66-4566-d336-2bbddb41950a"
      },
      "source": [
        "import time\n",
        "\n",
        "start = time.time()\n",
        "print(sum([i for i in range(10000000)]))\n",
        "print(time.time() - start)"
      ],
      "execution_count": 16,
      "outputs": [
        {
          "output_type": "stream",
          "text": [
            "49999995000000\n",
            "0.9679272174835205\n"
          ],
          "name": "stdout"
        }
      ]
    }
  ]
}
